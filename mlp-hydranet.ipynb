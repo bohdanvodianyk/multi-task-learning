{
  "nbformat": 4,
  "nbformat_minor": 0,
  "metadata": {
    "colab": {
      "provenance": [],
      "gpuType": "T4"
    },
    "kernelspec": {
      "name": "python3",
      "display_name": "Python 3"
    },
    "language_info": {
      "name": "python"
    },
    "accelerator": "GPU"
  },
  "cells": [
    {
      "cell_type": "code",
      "source": [
        "!wget https://hydranets-data.s3.eu-west-3.amazonaws.com/hydranets-data.zip && unzip -q hydranets-data.zip && mv hydranets-data/* . && rm hydranets-data.zip && rm -rf hydranets-data"
      ],
      "metadata": {
        "colab": {
          "base_uri": "https://localhost:8080/"
        },
        "id": "ITphjk4G8_fs",
        "outputId": "b9821189-07d1-4617-ee69-af709d9cf683"
      },
      "execution_count": 1,
      "outputs": [
        {
          "output_type": "stream",
          "name": "stdout",
          "text": [
            "--2024-10-11 10:51:09--  https://hydranets-data.s3.eu-west-3.amazonaws.com/hydranets-data.zip\n",
            "Resolving hydranets-data.s3.eu-west-3.amazonaws.com (hydranets-data.s3.eu-west-3.amazonaws.com)... 3.5.225.205, 3.5.225.182\n",
            "Connecting to hydranets-data.s3.eu-west-3.amazonaws.com (hydranets-data.s3.eu-west-3.amazonaws.com)|3.5.225.205|:443... connected.\n",
            "HTTP request sent, awaiting response... 200 OK\n",
            "Length: 110752264 (106M) [application/zip]\n",
            "Saving to: ‘hydranets-data.zip’\n",
            "\n",
            "hydranets-data.zip  100%[===================>] 105.62M  17.4MB/s    in 7.4s    \n",
            "\n",
            "2024-10-11 10:51:17 (14.3 MB/s) - ‘hydranets-data.zip’ saved [110752264/110752264]\n",
            "\n"
          ]
        }
      ]
    },
    {
      "cell_type": "code",
      "execution_count": 2,
      "metadata": {
        "id": "w4cM1osX80YD"
      },
      "outputs": [],
      "source": [
        "%matplotlib inline\n",
        "import matplotlib.pyplot as plt\n",
        "from PIL import Image\n",
        "import numpy as np\n",
        "import cv2\n",
        "import torch\n",
        "import torch.nn as nn\n",
        "import math\n",
        "import torch.nn.functional as F\n",
        "from torch.autograd import Variable"
      ]
    },
    {
      "cell_type": "markdown",
      "source": [
        "### Encoder"
      ],
      "metadata": {
        "id": "ytcOh1AsLsZf"
      }
    },
    {
      "cell_type": "code",
      "source": [
        "class HydraNet(nn.Module):\n",
        "    def __init__(self):\n",
        "        #super(HydraNet, self).__init__() # Python2\n",
        "        super().__init__() # Python 3\n",
        "        self.num_tasks = 2\n",
        "        self.num_classes = 6"
      ],
      "metadata": {
        "id": "ChtJZk3O9Ou3"
      },
      "execution_count": 19,
      "outputs": []
    },
    {
      "cell_type": "code",
      "source": [
        "hydranet = HydraNet()"
      ],
      "metadata": {
        "id": "WH3cNEzq9QtL"
      },
      "execution_count": 20,
      "outputs": []
    },
    {
      "cell_type": "code",
      "source": [
        "def conv3x3(in_channels, out_channels, stride=1, dilation=1, groups=1, bias=False):\n",
        "    return nn.Conv2d(in_channels, out_channels, kernel_size=3, stride=stride, padding=dilation, bias=bias, groups=groups)"
      ],
      "metadata": {
        "id": "ta1z1QmLCBAL"
      },
      "execution_count": 21,
      "outputs": []
    },
    {
      "cell_type": "code",
      "source": [
        "def conv1x1(in_channels, out_channels, stride=1, dilation=0, groups=1, bias=False):\n",
        "    return nn.Conv2d(in_channels, out_channels, kernel_size=1, stride=stride, padding=dilation, bias=bias, groups=groups)"
      ],
      "metadata": {
        "id": "PVRIbvrjDZ9A"
      },
      "execution_count": 22,
      "outputs": []
    },
    {
      "cell_type": "code",
      "source": [
        "def batchnorm(num_features):\n",
        "    return nn.BatchNorm2d(num_features, affine=True, eps=1e-5, momentum=0.1)"
      ],
      "metadata": {
        "id": "5y_eJuv-Ejjz"
      },
      "execution_count": 23,
      "outputs": []
    },
    {
      "cell_type": "code",
      "source": [
        "def convbnrelu(in_channels, out_channels, kernel_size, stride=1, groups=1, act=True):\n",
        "  if act:\n",
        "    return nn.Sequential(nn.Conv2d(in_channels, out_channels, kernel_size, stride=stride, padding=int(kernel_size/2.0), groups=groups, bias=False),\n",
        "                         batchnorm(out_channels),\n",
        "                         nn.ReLU6(inplace=True))\n",
        "  else:\n",
        "    return nn.Sequential(nn.Conv2d(in_channels, out_channels, kernel_size, stride=stride, padding=int(kernel_size/2.0), groups=groups, bias=False),\n",
        "                         batchnorm(out_channels))"
      ],
      "metadata": {
        "id": "DZ4A28HnE99l"
      },
      "execution_count": 24,
      "outputs": []
    },
    {
      "cell_type": "code",
      "source": [
        "class InvertedResidualBlock(nn.Module):\n",
        "  def __init__(self, in_planes, out_planes, expansion_factor, stride=1):\n",
        "    super().__init__()\n",
        "    intermed_planes = in_planes * expansion_factor\n",
        "    self.residual = (in_planes == out_planes) and (stride == 1)\n",
        "    self.output = nn.Sequential(convbnrelu(in_planes, intermed_planes, 1),\n",
        "                                convbnrelu(intermed_planes, intermed_planes, 3, stride=stride, groups=intermed_planes),\n",
        "                                convbnrelu(intermed_planes, out_planes, 1, act=False))\n",
        "  def forward(self, x):\n",
        "    if self.residual:\n",
        "      return x + self.output(x)\n",
        "    else:\n",
        "      return self.output(x)"
      ],
      "metadata": {
        "id": "4G9RCTWOF1VO"
      },
      "execution_count": 25,
      "outputs": []
    },
    {
      "cell_type": "code",
      "source": [
        "def define_mobilenet(self):\n",
        "  mobilenet_config = [[1, 16, 1, 1],\n",
        "                      [6, 24, 2, 2],\n",
        "                      [6, 32, 3, 2],\n",
        "                      [6, 64, 4, 2],\n",
        "                      [6, 96, 3, 1],\n",
        "                      [6, 160, 3, 2],\n",
        "                      [6, 320, 1, 1]]\n",
        "\n",
        "  self.in_channels = 32\n",
        "  self.num_layers = len(mobilenet_config)\n",
        "  self.layers1 = convbnrelu(3, self.in_channels, kernel_size=3, stride=2)\n",
        "  c_layer = 2\n",
        "\n",
        "  for t, c, n, s in mobilenet_config:\n",
        "    layers = []\n",
        "    for idx in range(n):\n",
        "      layers.append(InvertedResidualBlock(self.in_channels, c, expansion_factor=t, stride=s if idx == 0 else 1))\n",
        "      self.in_channels = c\n",
        "    setattr(self, \"layer{}\".format(c_layer), nn.Sequential(*layers))\n",
        "    c_layer += 1\n",
        "\n",
        "HydraNet.define_mobilenet = define_mobilenet"
      ],
      "metadata": {
        "id": "URcFSumaFgBb"
      },
      "execution_count": 26,
      "outputs": []
    },
    {
      "cell_type": "code",
      "source": [
        "hydranet.define_mobilenet()"
      ],
      "metadata": {
        "id": "STAeNScYEZ5O"
      },
      "execution_count": 27,
      "outputs": []
    },
    {
      "cell_type": "code",
      "source": [
        "print(hydranet)"
      ],
      "metadata": {
        "colab": {
          "base_uri": "https://localhost:8080/"
        },
        "id": "1fDcDrLkEkW2",
        "outputId": "2ed9c58e-5190-49b5-8ff6-2fa5ea098c04"
      },
      "execution_count": 28,
      "outputs": [
        {
          "output_type": "stream",
          "name": "stdout",
          "text": [
            "HydraNet(\n",
            "  (layers1): Sequential(\n",
            "    (0): Conv2d(3, 32, kernel_size=(3, 3), stride=(2, 2), padding=(1, 1), bias=False)\n",
            "    (1): BatchNorm2d(32, eps=1e-05, momentum=0.1, affine=True, track_running_stats=True)\n",
            "    (2): ReLU6(inplace=True)\n",
            "  )\n",
            "  (layer2): Sequential(\n",
            "    (0): InvertedResidualBlock(\n",
            "      (output): Sequential(\n",
            "        (0): Sequential(\n",
            "          (0): Conv2d(32, 32, kernel_size=(1, 1), stride=(1, 1), bias=False)\n",
            "          (1): BatchNorm2d(32, eps=1e-05, momentum=0.1, affine=True, track_running_stats=True)\n",
            "          (2): ReLU6(inplace=True)\n",
            "        )\n",
            "        (1): Sequential(\n",
            "          (0): Conv2d(32, 32, kernel_size=(3, 3), stride=(1, 1), padding=(1, 1), groups=32, bias=False)\n",
            "          (1): BatchNorm2d(32, eps=1e-05, momentum=0.1, affine=True, track_running_stats=True)\n",
            "          (2): ReLU6(inplace=True)\n",
            "        )\n",
            "        (2): Sequential(\n",
            "          (0): Conv2d(32, 16, kernel_size=(1, 1), stride=(1, 1), bias=False)\n",
            "          (1): BatchNorm2d(16, eps=1e-05, momentum=0.1, affine=True, track_running_stats=True)\n",
            "        )\n",
            "      )\n",
            "    )\n",
            "  )\n",
            "  (layer3): Sequential(\n",
            "    (0): InvertedResidualBlock(\n",
            "      (output): Sequential(\n",
            "        (0): Sequential(\n",
            "          (0): Conv2d(16, 96, kernel_size=(1, 1), stride=(1, 1), bias=False)\n",
            "          (1): BatchNorm2d(96, eps=1e-05, momentum=0.1, affine=True, track_running_stats=True)\n",
            "          (2): ReLU6(inplace=True)\n",
            "        )\n",
            "        (1): Sequential(\n",
            "          (0): Conv2d(96, 96, kernel_size=(3, 3), stride=(2, 2), padding=(1, 1), groups=96, bias=False)\n",
            "          (1): BatchNorm2d(96, eps=1e-05, momentum=0.1, affine=True, track_running_stats=True)\n",
            "          (2): ReLU6(inplace=True)\n",
            "        )\n",
            "        (2): Sequential(\n",
            "          (0): Conv2d(96, 24, kernel_size=(1, 1), stride=(1, 1), bias=False)\n",
            "          (1): BatchNorm2d(24, eps=1e-05, momentum=0.1, affine=True, track_running_stats=True)\n",
            "        )\n",
            "      )\n",
            "    )\n",
            "    (1): InvertedResidualBlock(\n",
            "      (output): Sequential(\n",
            "        (0): Sequential(\n",
            "          (0): Conv2d(24, 144, kernel_size=(1, 1), stride=(1, 1), bias=False)\n",
            "          (1): BatchNorm2d(144, eps=1e-05, momentum=0.1, affine=True, track_running_stats=True)\n",
            "          (2): ReLU6(inplace=True)\n",
            "        )\n",
            "        (1): Sequential(\n",
            "          (0): Conv2d(144, 144, kernel_size=(3, 3), stride=(1, 1), padding=(1, 1), groups=144, bias=False)\n",
            "          (1): BatchNorm2d(144, eps=1e-05, momentum=0.1, affine=True, track_running_stats=True)\n",
            "          (2): ReLU6(inplace=True)\n",
            "        )\n",
            "        (2): Sequential(\n",
            "          (0): Conv2d(144, 24, kernel_size=(1, 1), stride=(1, 1), bias=False)\n",
            "          (1): BatchNorm2d(24, eps=1e-05, momentum=0.1, affine=True, track_running_stats=True)\n",
            "        )\n",
            "      )\n",
            "    )\n",
            "  )\n",
            "  (layer4): Sequential(\n",
            "    (0): InvertedResidualBlock(\n",
            "      (output): Sequential(\n",
            "        (0): Sequential(\n",
            "          (0): Conv2d(24, 144, kernel_size=(1, 1), stride=(1, 1), bias=False)\n",
            "          (1): BatchNorm2d(144, eps=1e-05, momentum=0.1, affine=True, track_running_stats=True)\n",
            "          (2): ReLU6(inplace=True)\n",
            "        )\n",
            "        (1): Sequential(\n",
            "          (0): Conv2d(144, 144, kernel_size=(3, 3), stride=(2, 2), padding=(1, 1), groups=144, bias=False)\n",
            "          (1): BatchNorm2d(144, eps=1e-05, momentum=0.1, affine=True, track_running_stats=True)\n",
            "          (2): ReLU6(inplace=True)\n",
            "        )\n",
            "        (2): Sequential(\n",
            "          (0): Conv2d(144, 32, kernel_size=(1, 1), stride=(1, 1), bias=False)\n",
            "          (1): BatchNorm2d(32, eps=1e-05, momentum=0.1, affine=True, track_running_stats=True)\n",
            "        )\n",
            "      )\n",
            "    )\n",
            "    (1): InvertedResidualBlock(\n",
            "      (output): Sequential(\n",
            "        (0): Sequential(\n",
            "          (0): Conv2d(32, 192, kernel_size=(1, 1), stride=(1, 1), bias=False)\n",
            "          (1): BatchNorm2d(192, eps=1e-05, momentum=0.1, affine=True, track_running_stats=True)\n",
            "          (2): ReLU6(inplace=True)\n",
            "        )\n",
            "        (1): Sequential(\n",
            "          (0): Conv2d(192, 192, kernel_size=(3, 3), stride=(1, 1), padding=(1, 1), groups=192, bias=False)\n",
            "          (1): BatchNorm2d(192, eps=1e-05, momentum=0.1, affine=True, track_running_stats=True)\n",
            "          (2): ReLU6(inplace=True)\n",
            "        )\n",
            "        (2): Sequential(\n",
            "          (0): Conv2d(192, 32, kernel_size=(1, 1), stride=(1, 1), bias=False)\n",
            "          (1): BatchNorm2d(32, eps=1e-05, momentum=0.1, affine=True, track_running_stats=True)\n",
            "        )\n",
            "      )\n",
            "    )\n",
            "    (2): InvertedResidualBlock(\n",
            "      (output): Sequential(\n",
            "        (0): Sequential(\n",
            "          (0): Conv2d(32, 192, kernel_size=(1, 1), stride=(1, 1), bias=False)\n",
            "          (1): BatchNorm2d(192, eps=1e-05, momentum=0.1, affine=True, track_running_stats=True)\n",
            "          (2): ReLU6(inplace=True)\n",
            "        )\n",
            "        (1): Sequential(\n",
            "          (0): Conv2d(192, 192, kernel_size=(3, 3), stride=(1, 1), padding=(1, 1), groups=192, bias=False)\n",
            "          (1): BatchNorm2d(192, eps=1e-05, momentum=0.1, affine=True, track_running_stats=True)\n",
            "          (2): ReLU6(inplace=True)\n",
            "        )\n",
            "        (2): Sequential(\n",
            "          (0): Conv2d(192, 32, kernel_size=(1, 1), stride=(1, 1), bias=False)\n",
            "          (1): BatchNorm2d(32, eps=1e-05, momentum=0.1, affine=True, track_running_stats=True)\n",
            "        )\n",
            "      )\n",
            "    )\n",
            "  )\n",
            "  (layer5): Sequential(\n",
            "    (0): InvertedResidualBlock(\n",
            "      (output): Sequential(\n",
            "        (0): Sequential(\n",
            "          (0): Conv2d(32, 192, kernel_size=(1, 1), stride=(1, 1), bias=False)\n",
            "          (1): BatchNorm2d(192, eps=1e-05, momentum=0.1, affine=True, track_running_stats=True)\n",
            "          (2): ReLU6(inplace=True)\n",
            "        )\n",
            "        (1): Sequential(\n",
            "          (0): Conv2d(192, 192, kernel_size=(3, 3), stride=(2, 2), padding=(1, 1), groups=192, bias=False)\n",
            "          (1): BatchNorm2d(192, eps=1e-05, momentum=0.1, affine=True, track_running_stats=True)\n",
            "          (2): ReLU6(inplace=True)\n",
            "        )\n",
            "        (2): Sequential(\n",
            "          (0): Conv2d(192, 64, kernel_size=(1, 1), stride=(1, 1), bias=False)\n",
            "          (1): BatchNorm2d(64, eps=1e-05, momentum=0.1, affine=True, track_running_stats=True)\n",
            "        )\n",
            "      )\n",
            "    )\n",
            "    (1): InvertedResidualBlock(\n",
            "      (output): Sequential(\n",
            "        (0): Sequential(\n",
            "          (0): Conv2d(64, 384, kernel_size=(1, 1), stride=(1, 1), bias=False)\n",
            "          (1): BatchNorm2d(384, eps=1e-05, momentum=0.1, affine=True, track_running_stats=True)\n",
            "          (2): ReLU6(inplace=True)\n",
            "        )\n",
            "        (1): Sequential(\n",
            "          (0): Conv2d(384, 384, kernel_size=(3, 3), stride=(1, 1), padding=(1, 1), groups=384, bias=False)\n",
            "          (1): BatchNorm2d(384, eps=1e-05, momentum=0.1, affine=True, track_running_stats=True)\n",
            "          (2): ReLU6(inplace=True)\n",
            "        )\n",
            "        (2): Sequential(\n",
            "          (0): Conv2d(384, 64, kernel_size=(1, 1), stride=(1, 1), bias=False)\n",
            "          (1): BatchNorm2d(64, eps=1e-05, momentum=0.1, affine=True, track_running_stats=True)\n",
            "        )\n",
            "      )\n",
            "    )\n",
            "    (2): InvertedResidualBlock(\n",
            "      (output): Sequential(\n",
            "        (0): Sequential(\n",
            "          (0): Conv2d(64, 384, kernel_size=(1, 1), stride=(1, 1), bias=False)\n",
            "          (1): BatchNorm2d(384, eps=1e-05, momentum=0.1, affine=True, track_running_stats=True)\n",
            "          (2): ReLU6(inplace=True)\n",
            "        )\n",
            "        (1): Sequential(\n",
            "          (0): Conv2d(384, 384, kernel_size=(3, 3), stride=(1, 1), padding=(1, 1), groups=384, bias=False)\n",
            "          (1): BatchNorm2d(384, eps=1e-05, momentum=0.1, affine=True, track_running_stats=True)\n",
            "          (2): ReLU6(inplace=True)\n",
            "        )\n",
            "        (2): Sequential(\n",
            "          (0): Conv2d(384, 64, kernel_size=(1, 1), stride=(1, 1), bias=False)\n",
            "          (1): BatchNorm2d(64, eps=1e-05, momentum=0.1, affine=True, track_running_stats=True)\n",
            "        )\n",
            "      )\n",
            "    )\n",
            "    (3): InvertedResidualBlock(\n",
            "      (output): Sequential(\n",
            "        (0): Sequential(\n",
            "          (0): Conv2d(64, 384, kernel_size=(1, 1), stride=(1, 1), bias=False)\n",
            "          (1): BatchNorm2d(384, eps=1e-05, momentum=0.1, affine=True, track_running_stats=True)\n",
            "          (2): ReLU6(inplace=True)\n",
            "        )\n",
            "        (1): Sequential(\n",
            "          (0): Conv2d(384, 384, kernel_size=(3, 3), stride=(1, 1), padding=(1, 1), groups=384, bias=False)\n",
            "          (1): BatchNorm2d(384, eps=1e-05, momentum=0.1, affine=True, track_running_stats=True)\n",
            "          (2): ReLU6(inplace=True)\n",
            "        )\n",
            "        (2): Sequential(\n",
            "          (0): Conv2d(384, 64, kernel_size=(1, 1), stride=(1, 1), bias=False)\n",
            "          (1): BatchNorm2d(64, eps=1e-05, momentum=0.1, affine=True, track_running_stats=True)\n",
            "        )\n",
            "      )\n",
            "    )\n",
            "  )\n",
            "  (layer6): Sequential(\n",
            "    (0): InvertedResidualBlock(\n",
            "      (output): Sequential(\n",
            "        (0): Sequential(\n",
            "          (0): Conv2d(64, 384, kernel_size=(1, 1), stride=(1, 1), bias=False)\n",
            "          (1): BatchNorm2d(384, eps=1e-05, momentum=0.1, affine=True, track_running_stats=True)\n",
            "          (2): ReLU6(inplace=True)\n",
            "        )\n",
            "        (1): Sequential(\n",
            "          (0): Conv2d(384, 384, kernel_size=(3, 3), stride=(1, 1), padding=(1, 1), groups=384, bias=False)\n",
            "          (1): BatchNorm2d(384, eps=1e-05, momentum=0.1, affine=True, track_running_stats=True)\n",
            "          (2): ReLU6(inplace=True)\n",
            "        )\n",
            "        (2): Sequential(\n",
            "          (0): Conv2d(384, 96, kernel_size=(1, 1), stride=(1, 1), bias=False)\n",
            "          (1): BatchNorm2d(96, eps=1e-05, momentum=0.1, affine=True, track_running_stats=True)\n",
            "        )\n",
            "      )\n",
            "    )\n",
            "    (1): InvertedResidualBlock(\n",
            "      (output): Sequential(\n",
            "        (0): Sequential(\n",
            "          (0): Conv2d(96, 576, kernel_size=(1, 1), stride=(1, 1), bias=False)\n",
            "          (1): BatchNorm2d(576, eps=1e-05, momentum=0.1, affine=True, track_running_stats=True)\n",
            "          (2): ReLU6(inplace=True)\n",
            "        )\n",
            "        (1): Sequential(\n",
            "          (0): Conv2d(576, 576, kernel_size=(3, 3), stride=(1, 1), padding=(1, 1), groups=576, bias=False)\n",
            "          (1): BatchNorm2d(576, eps=1e-05, momentum=0.1, affine=True, track_running_stats=True)\n",
            "          (2): ReLU6(inplace=True)\n",
            "        )\n",
            "        (2): Sequential(\n",
            "          (0): Conv2d(576, 96, kernel_size=(1, 1), stride=(1, 1), bias=False)\n",
            "          (1): BatchNorm2d(96, eps=1e-05, momentum=0.1, affine=True, track_running_stats=True)\n",
            "        )\n",
            "      )\n",
            "    )\n",
            "    (2): InvertedResidualBlock(\n",
            "      (output): Sequential(\n",
            "        (0): Sequential(\n",
            "          (0): Conv2d(96, 576, kernel_size=(1, 1), stride=(1, 1), bias=False)\n",
            "          (1): BatchNorm2d(576, eps=1e-05, momentum=0.1, affine=True, track_running_stats=True)\n",
            "          (2): ReLU6(inplace=True)\n",
            "        )\n",
            "        (1): Sequential(\n",
            "          (0): Conv2d(576, 576, kernel_size=(3, 3), stride=(1, 1), padding=(1, 1), groups=576, bias=False)\n",
            "          (1): BatchNorm2d(576, eps=1e-05, momentum=0.1, affine=True, track_running_stats=True)\n",
            "          (2): ReLU6(inplace=True)\n",
            "        )\n",
            "        (2): Sequential(\n",
            "          (0): Conv2d(576, 96, kernel_size=(1, 1), stride=(1, 1), bias=False)\n",
            "          (1): BatchNorm2d(96, eps=1e-05, momentum=0.1, affine=True, track_running_stats=True)\n",
            "        )\n",
            "      )\n",
            "    )\n",
            "  )\n",
            "  (layer7): Sequential(\n",
            "    (0): InvertedResidualBlock(\n",
            "      (output): Sequential(\n",
            "        (0): Sequential(\n",
            "          (0): Conv2d(96, 576, kernel_size=(1, 1), stride=(1, 1), bias=False)\n",
            "          (1): BatchNorm2d(576, eps=1e-05, momentum=0.1, affine=True, track_running_stats=True)\n",
            "          (2): ReLU6(inplace=True)\n",
            "        )\n",
            "        (1): Sequential(\n",
            "          (0): Conv2d(576, 576, kernel_size=(3, 3), stride=(2, 2), padding=(1, 1), groups=576, bias=False)\n",
            "          (1): BatchNorm2d(576, eps=1e-05, momentum=0.1, affine=True, track_running_stats=True)\n",
            "          (2): ReLU6(inplace=True)\n",
            "        )\n",
            "        (2): Sequential(\n",
            "          (0): Conv2d(576, 160, kernel_size=(1, 1), stride=(1, 1), bias=False)\n",
            "          (1): BatchNorm2d(160, eps=1e-05, momentum=0.1, affine=True, track_running_stats=True)\n",
            "        )\n",
            "      )\n",
            "    )\n",
            "    (1): InvertedResidualBlock(\n",
            "      (output): Sequential(\n",
            "        (0): Sequential(\n",
            "          (0): Conv2d(160, 960, kernel_size=(1, 1), stride=(1, 1), bias=False)\n",
            "          (1): BatchNorm2d(960, eps=1e-05, momentum=0.1, affine=True, track_running_stats=True)\n",
            "          (2): ReLU6(inplace=True)\n",
            "        )\n",
            "        (1): Sequential(\n",
            "          (0): Conv2d(960, 960, kernel_size=(3, 3), stride=(1, 1), padding=(1, 1), groups=960, bias=False)\n",
            "          (1): BatchNorm2d(960, eps=1e-05, momentum=0.1, affine=True, track_running_stats=True)\n",
            "          (2): ReLU6(inplace=True)\n",
            "        )\n",
            "        (2): Sequential(\n",
            "          (0): Conv2d(960, 160, kernel_size=(1, 1), stride=(1, 1), bias=False)\n",
            "          (1): BatchNorm2d(160, eps=1e-05, momentum=0.1, affine=True, track_running_stats=True)\n",
            "        )\n",
            "      )\n",
            "    )\n",
            "    (2): InvertedResidualBlock(\n",
            "      (output): Sequential(\n",
            "        (0): Sequential(\n",
            "          (0): Conv2d(160, 960, kernel_size=(1, 1), stride=(1, 1), bias=False)\n",
            "          (1): BatchNorm2d(960, eps=1e-05, momentum=0.1, affine=True, track_running_stats=True)\n",
            "          (2): ReLU6(inplace=True)\n",
            "        )\n",
            "        (1): Sequential(\n",
            "          (0): Conv2d(960, 960, kernel_size=(3, 3), stride=(1, 1), padding=(1, 1), groups=960, bias=False)\n",
            "          (1): BatchNorm2d(960, eps=1e-05, momentum=0.1, affine=True, track_running_stats=True)\n",
            "          (2): ReLU6(inplace=True)\n",
            "        )\n",
            "        (2): Sequential(\n",
            "          (0): Conv2d(960, 160, kernel_size=(1, 1), stride=(1, 1), bias=False)\n",
            "          (1): BatchNorm2d(160, eps=1e-05, momentum=0.1, affine=True, track_running_stats=True)\n",
            "        )\n",
            "      )\n",
            "    )\n",
            "  )\n",
            "  (layer8): Sequential(\n",
            "    (0): InvertedResidualBlock(\n",
            "      (output): Sequential(\n",
            "        (0): Sequential(\n",
            "          (0): Conv2d(160, 960, kernel_size=(1, 1), stride=(1, 1), bias=False)\n",
            "          (1): BatchNorm2d(960, eps=1e-05, momentum=0.1, affine=True, track_running_stats=True)\n",
            "          (2): ReLU6(inplace=True)\n",
            "        )\n",
            "        (1): Sequential(\n",
            "          (0): Conv2d(960, 960, kernel_size=(3, 3), stride=(1, 1), padding=(1, 1), groups=960, bias=False)\n",
            "          (1): BatchNorm2d(960, eps=1e-05, momentum=0.1, affine=True, track_running_stats=True)\n",
            "          (2): ReLU6(inplace=True)\n",
            "        )\n",
            "        (2): Sequential(\n",
            "          (0): Conv2d(960, 320, kernel_size=(1, 1), stride=(1, 1), bias=False)\n",
            "          (1): BatchNorm2d(320, eps=1e-05, momentum=0.1, affine=True, track_running_stats=True)\n",
            "        )\n",
            "      )\n",
            "    )\n",
            "  )\n",
            ")\n"
          ]
        }
      ]
    },
    {
      "cell_type": "markdown",
      "source": [
        "### Decoder"
      ],
      "metadata": {
        "id": "7Ahq5Hu7Lvfr"
      }
    },
    {
      "cell_type": "code",
      "source": [
        "class CRPBlock(nn.Module):\n",
        "  def __init__(self, in_planes, out_planes, n_stages, group=False):\n",
        "    super().__init__()\n",
        "    for i in range(n_stages):\n",
        "      setattr(self, \"{}_{}\".format(i+1, \"outvar_dimred\"),\n",
        "              conv1x1(in_planes if (i == 0) else out_planes, out_planes,\n",
        "                      stride=1, bias=False,\n",
        "                      groups=in_planes if group else 1))\n",
        "    self.stride = 1\n",
        "    self.n_stages = n_stages\n",
        "    self.maxpool = nn.MaxPool2d(kernel_size=5, stride=1, padding=2)\n",
        "  def forward(self, x):\n",
        "    top = x\n",
        "    for i in range(self.n_stages):\n",
        "      top = self.maxpool(top)\n",
        "      top = getattr(self, \"{}_{}\".format(i+1, \"outvar_dimred\"))(top)\n",
        "      x = top + x\n",
        "    return x"
      ],
      "metadata": {
        "id": "diKdmaYEEnd2"
      },
      "execution_count": 29,
      "outputs": []
    },
    {
      "cell_type": "code",
      "source": [
        "def _make_crp(self, in_planes, out_planes, stages, group=False):\n",
        "  layers = [CRPBlock(in_planes, out_planes, stages, group)]\n",
        "  return nn.Sequential(*layers)"
      ],
      "metadata": {
        "id": "DbBDZyX-M_ax"
      },
      "execution_count": 30,
      "outputs": []
    },
    {
      "cell_type": "code",
      "source": [
        "HydraNet._make_crp = _make_crp"
      ],
      "metadata": {
        "id": "QBAysnLmNPVN"
      },
      "execution_count": 31,
      "outputs": []
    },
    {
      "cell_type": "code",
      "source": [
        "def define_lightweight_refinenet(self):\n",
        "  self.conv8 = conv1x1(320, 256, bias=False)\n",
        "  self.conv7 = conv1x1(160, 256, bias=False)\n",
        "  self.conv6 = conv1x1(96, 256, bias=False)\n",
        "  self.conv5 = conv1x1(64, 256, bias=False)\n",
        "  self.conv4 = conv1x1(32, 256, bias=False)\n",
        "  self.conv3 = conv1x1(24, 256, bias=False)\n",
        "  self.crp4 = self._make_crp(256, 256, 4, group=False)\n",
        "  self.crp3 = self._make_crp(256, 256, 4, group=False)\n",
        "  self.crp2 = self._make_crp(256, 256, 4, group=False)\n",
        "  self.crp1 = self._make_crp(256, 256, 4, group=False)\n",
        "\n",
        "  self.conv_adapt4 = conv1x1(256, 256, bias=False)\n",
        "  self.conv_adapt3 = conv1x1(256, 256, bias=False)\n",
        "  self.conv_adapt2 = conv1x1(256, 256, bias=False)\n",
        "\n",
        "  self.pre_depth = conv1x1(256, 256, groups=256, bias=False)\n",
        "  self.depth = conv3x3(256, 1, bias=True)\n",
        "  self.pre_segm = conv1x1(256, 256, groups=256, bias=False)\n",
        "  self.segm = conv3x3(256, self.num_classes, bias=True)\n",
        "  self.relu = nn.ReLU(inplace=True)\n",
        "\n",
        "  if self.num_tasks == 3:\n",
        "    self.pre_normal = conv1x1(256, 256, groups=256, bias=False)\n",
        "    self.normal = conv3x3(256, 3, bias=True)"
      ],
      "metadata": {
        "id": "rbIU7C2gNRHz"
      },
      "execution_count": 35,
      "outputs": []
    },
    {
      "cell_type": "code",
      "source": [
        "HydraNet.define_lightweight_refinenet = define_lightweight_refinenet"
      ],
      "metadata": {
        "id": "9AfxXgI-OX2_"
      },
      "execution_count": 36,
      "outputs": []
    },
    {
      "cell_type": "code",
      "source": [
        "hydranet.define_lightweight_refinenet()"
      ],
      "metadata": {
        "id": "kU-Fn11iOadw"
      },
      "execution_count": 37,
      "outputs": []
    },
    {
      "cell_type": "markdown",
      "source": [
        "### Forward"
      ],
      "metadata": {
        "id": "t5WEnWCaOzv7"
      }
    },
    {
      "cell_type": "code",
      "source": [
        "def forward(self, x):\n",
        "  x = self.layers1(x)\n",
        "  x = self.layer2(x)\n",
        "  l3 = self.layer3(x)\n",
        "  l4 = self.layer4(l3)\n",
        "  l5 = self.layer5(l4)\n",
        "  l6 = self.layer6(l5)\n",
        "  l7 = self.layer7(l6)\n",
        "  l8 = self.layer8(l7)\n",
        "\n",
        "  l8 = self.conv8(l8)\n",
        "  l7 = self.conv7(l7)\n",
        "  l7 = self.relu(l8 + l7)\n",
        "  l7 = self.crp4(l7)\n",
        "  l7 = self.conv_adapt4(l7)\n",
        "  l7 = nn.Upsample(size=l6.size()[2:], mode=\"bilinear\", align_corners=False)(l7)\n",
        "\n",
        "  self.conv6(l6)\n",
        "  self.conv5(l5)\n",
        "  self.relu(l5 + l6 + l7)\n",
        "  self.crp3(l5)\n",
        "  self.conv_adapt3(l5)\n",
        "  nn.Upsample(size=l4.size()[2:], mode=\"bilinear\", align_corners=False)(l5)\n",
        "\n",
        "  self.conv4(l4)\n",
        "  self.relu(l5 + l4)\n",
        "  self.crp2(l4)\n",
        "  self.conv_adapt2(l4)\n",
        "  nn.Upsample(size=l3.size()[2:], mode=\"bilinear\", align_corners=False)(l4)\n",
        "\n",
        "  self.conv3(l3)\n",
        "  self.relu(l3 + l4)\n",
        "  self.crp1(l3)\n",
        "\n",
        "  # Heads\n",
        "\n",
        "  out_segm = self.segm(l3)\n",
        "  out_segm = self.relu(out_segm)\n",
        "  out_segm = self.segm(out_segm)\n",
        "\n",
        "  out_d = self.depth(l3)\n",
        "  out_d = self.relu(out_d)\n",
        "  out_d = self.depth(out_d)\n",
        "\n",
        "  if self.num_tasks == 3:\n",
        "    out_n = self.pre_normal(l3)\n",
        "    out_n = self.relu(out_n)\n",
        "    out_n = self.normal(out_n)\n",
        "    return out_segm, out_d, out_n\n",
        "  else:\n",
        "    return out_segm, out_d"
      ],
      "metadata": {
        "id": "Pts6fv2YOb9Q"
      },
      "execution_count": 38,
      "outputs": []
    },
    {
      "cell_type": "code",
      "source": [
        "HydraNet.forward = forward"
      ],
      "metadata": {
        "id": "ryl6qpVsQc0g"
      },
      "execution_count": 39,
      "outputs": []
    },
    {
      "cell_type": "code",
      "source": [],
      "metadata": {
        "id": "vfPx4t1MQec7"
      },
      "execution_count": null,
      "outputs": []
    }
  ]
}